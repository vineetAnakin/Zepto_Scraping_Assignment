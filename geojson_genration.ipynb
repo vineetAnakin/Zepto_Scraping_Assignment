{
  "cells": [
    {
      "cell_type": "code",
      "execution_count": 16,
      "metadata": {
        "id": "7rLmyHtI8KVz"
      },
      "outputs": [],
      "source": [
        "from polygeohasher import polygeohasher\n",
        "import geopandas as gpd\n",
        "\n",
        "gdf = gpd.read_file(\"geoLocationGeneration.geojson\")"
      ]
    },
    {
      "cell_type": "code",
      "execution_count": null,
      "metadata": {
        "id": "Vpj1YNGS-p2A"
      },
      "outputs": [],
      "source": []
    },
    {
      "cell_type": "code",
      "execution_count": 17,
      "metadata": {
        "id": "V0LKn-Ik9I82"
      },
      "outputs": [],
      "source": [
        "primary_df = polygeohasher.create_geohash_list(gdf, 6, inner=False)\n",
        "# inner=False indicates we are taking values outside of the boundaries, if True only polygons lying inside are considered."
      ]
    },
    {
      "cell_type": "code",
      "execution_count": null,
      "metadata": {
        "id": "BgmKZLgk9gQO"
      },
      "outputs": [],
      "source": []
    },
    {
      "cell_type": "code",
      "execution_count": 18,
      "metadata": {
        "id": "qHIP3fzq9kq2"
      },
      "outputs": [],
      "source": [
        "secondary_df = polygeohasher.geohash_optimizer(primary_df, 5,6,6)\n",
        "# mistake in blog in spelling of optimizer"
      ]
    },
    {
      "cell_type": "code",
      "execution_count": 19,
      "metadata": {
        "colab": {
          "base_uri": "https://localhost:8080/"
        },
        "id": "NZj1deVk91B2",
        "outputId": "e2bfdf81-d6fe-4071-84d2-dbf7c2349eb2"
      },
      "outputs": [
        {
          "name": "stdout",
          "output_type": "stream",
          "text": [
            "--------------------------------------------------\n",
            "\t\tOPTIMIZATION SUMMARY\n",
            "--------------------------------------------------\n",
            "Total Counts of Initial Geohashes :  356\n",
            "Total Counts of Final Geohashes   :  114\n",
            "Percent of optimization           :  67.98 %\n",
            "--------------------------------------------------\n"
          ]
        }
      ],
      "source": [
        "# calculate the optimization summary\n",
        "polygeohasher.optimization_summary(primary_df, secondary_df)"
      ]
    },
    {
      "cell_type": "code",
      "execution_count": 20,
      "metadata": {
        "colab": {
          "base_uri": "https://localhost:8080/"
        },
        "id": "_n3hrh-W_NPc",
        "outputId": "7b9472e0-0729-4ee6-936c-6bec85986724"
      },
      "outputs": [
        {
          "name": "stderr",
          "output_type": "stream",
          "text": [
            "/Library/Frameworks/Python.framework/Versions/3.11/lib/python3.11/site-packages/polygon_geohasher/polygon_geohasher.py:56: ShapelyDeprecationWarning: The 'cascaded_union()' function is deprecated. Use 'unary_union()' instead.\n",
            "  return cascaded_union([geohash_to_polygon(g) for g in geohashes])\n"
          ]
        }
      ],
      "source": [
        "geo_df = polygeohasher.geohashes_to_geometry(secondary_df, \"optimized_geohash_list\")\n",
        "geo_df.to_file(\"test.geojson\", driver=\"GeoJSON\")"
      ]
    },
    {
      "cell_type": "code",
      "execution_count": null,
      "metadata": {
        "id": "9JjnsSUz_mPu"
      },
      "outputs": [],
      "source": []
    }
  ],
  "metadata": {
    "colab": {
      "collapsed_sections": [
        "hroODe2T8uiA",
        "hShhcalC8874",
        "DHJWM76r9j9a",
        "rdv_FM0P-qwd",
        "HlAwi4eZ_Jpg"
      ],
      "provenance": []
    },
    "kernelspec": {
      "display_name": "Python 3",
      "name": "python3"
    },
    "language_info": {
      "codemirror_mode": {
        "name": "ipython",
        "version": 3
      },
      "file_extension": ".py",
      "mimetype": "text/x-python",
      "name": "python",
      "nbconvert_exporter": "python",
      "pygments_lexer": "ipython3",
      "version": "3.11.3"
    }
  },
  "nbformat": 4,
  "nbformat_minor": 0
}
